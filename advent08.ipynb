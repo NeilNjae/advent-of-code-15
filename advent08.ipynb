{
 "cells": [
  {
   "cell_type": "code",
   "execution_count": 13,
   "metadata": {
    "collapsed": false
   },
   "outputs": [],
   "source": [
    "pi8 = [l.strip() for l in open('advent08.txt').readlines()]"
   ]
  },
  {
   "cell_type": "code",
   "execution_count": 14,
   "metadata": {
    "collapsed": false
   },
   "outputs": [
    {
     "data": {
      "text/plain": [
       "[('\"qxfcsmh\"', 9),\n",
       " ('\"ffsfyxbyuhqkpwatkjgudo\"', 24),\n",
       " ('\"byc\\\\x9dyxuafof\\\\\\\\\\\\xa6uf\\\\\\\\axfozomj\\\\\\\\olh\\\\x6a\"', 43),\n",
       " ('\"jtqvz\"', 7),\n",
       " ('\"uzezxa\\\\\"jgbmojtwyfbfguz\"', 25)]"
      ]
     },
     "execution_count": 14,
     "metadata": {},
     "output_type": "execute_result"
    }
   ],
   "source": [
    "[(l, len(l))  for l in pi8][:5]"
   ]
  },
  {
   "cell_type": "code",
   "execution_count": 5,
   "metadata": {
    "collapsed": false
   },
   "outputs": [],
   "source": [
    "def interpret_len(s):\n",
    "    # s = s0[1:-2]\n",
    "    #print(len(s0), len(s))\n",
    "    l = 0\n",
    "    i = 0\n",
    "    while i < len(s):\n",
    "        # print(i, l, s[i])\n",
    "        if s[i] == '\\\\':\n",
    "            if s[i+1] == '\\\\' or s[i+1] == '\"':\n",
    "                l += 1\n",
    "                i += 2\n",
    "            else:\n",
    "                l += 1\n",
    "                i += 4\n",
    "        else:\n",
    "            l += 1\n",
    "            i += 1\n",
    "    return l - 2"
   ]
  },
  {
   "cell_type": "code",
   "execution_count": 6,
   "metadata": {
    "collapsed": false
   },
   "outputs": [
    {
     "data": {
      "text/plain": [
       "7"
      ]
     },
     "execution_count": 6,
     "metadata": {},
     "output_type": "execute_result"
    }
   ],
   "source": [
    "interpret_len(pi8[0])"
   ]
  },
  {
   "cell_type": "code",
   "execution_count": 7,
   "metadata": {
    "collapsed": false
   },
   "outputs": [
    {
     "data": {
      "text/plain": [
       "[]"
      ]
     },
     "execution_count": 7,
     "metadata": {},
     "output_type": "execute_result"
    }
   ],
   "source": [
    "[l for l in pi8 if len(eval(l)) != interpret_len(l)]"
   ]
  },
  {
   "cell_type": "code",
   "execution_count": 8,
   "metadata": {
    "collapsed": false
   },
   "outputs": [
    {
     "data": {
      "text/plain": [
       "1350"
      ]
     },
     "execution_count": 8,
     "metadata": {},
     "output_type": "execute_result"
    }
   ],
   "source": [
    "sum(len(s) - len(eval(s)) for s in pi8)"
   ]
  },
  {
   "cell_type": "code",
   "execution_count": 9,
   "metadata": {
    "collapsed": true
   },
   "outputs": [],
   "source": [
    "def uninterpret_len(s):\n",
    "    return len(s) + s.count('\\\\') + s.count('\"') + 2"
   ]
  },
  {
   "cell_type": "code",
   "execution_count": 10,
   "metadata": {
    "collapsed": false
   },
   "outputs": [
    {
     "data": {
      "text/plain": [
       "[(9, 13, '\"qxfcsmh\"'),\n",
       " (24, 28, '\"ffsfyxbyuhqkpwatkjgudo\"'),\n",
       " (43, 56, '\"byc\\\\x9dyxuafof\\\\\\\\\\\\xa6uf\\\\\\\\axfozomj\\\\\\\\olh\\\\x6a\"'),\n",
       " (7, 11, '\"jtqvz\"'),\n",
       " (25, 31, '\"uzezxa\\\\\"jgbmojtwyfbfguz\"'),\n",
       " (24, 29, '\"vqsremfk\\\\x8fxiknektafj\"'),\n",
       " (34, 45, '\"wzntebpxnnt\\\\\"vqndz\\\\\"i\\\\x47vvjqo\\\\\"\"'),\n",
       " (19, 27, '\"higvez\\\\\"k\\\\\"riewqk\"'),\n",
       " (29, 35, '\"dlkrbhbrlfrp\\\\\\\\damiauyucwhty\"'),\n",
       " (5, 11, '\"d\\\\\"\"')]"
      ]
     },
     "execution_count": 10,
     "metadata": {},
     "output_type": "execute_result"
    }
   ],
   "source": [
    "[(len(s), uninterpret_len(s), s) for s in pi8[:10]]"
   ]
  },
  {
   "cell_type": "code",
   "execution_count": 11,
   "metadata": {
    "collapsed": false
   },
   "outputs": [
    {
     "data": {
      "text/plain": [
       "11"
      ]
     },
     "execution_count": 11,
     "metadata": {},
     "output_type": "execute_result"
    }
   ],
   "source": [
    "uninterpret_len(r'\"\\x27\"')"
   ]
  },
  {
   "cell_type": "code",
   "execution_count": 12,
   "metadata": {
    "collapsed": false
   },
   "outputs": [
    {
     "data": {
      "text/plain": [
       "2085"
      ]
     },
     "execution_count": 12,
     "metadata": {},
     "output_type": "execute_result"
    }
   ],
   "source": [
    "sum(uninterpret_len(s) - len(s) for s in pi8)"
   ]
  },
  {
   "cell_type": "code",
   "execution_count": null,
   "metadata": {
    "collapsed": true
   },
   "outputs": [],
   "source": []
  }
 ],
 "metadata": {
  "kernelspec": {
   "display_name": "Python 3",
   "language": "python",
   "name": "python3"
  },
  "language_info": {
   "codemirror_mode": {
    "name": "ipython",
    "version": 3
   },
   "file_extension": ".py",
   "mimetype": "text/x-python",
   "name": "python",
   "nbconvert_exporter": "python",
   "pygments_lexer": "ipython3",
   "version": "3.4.3"
  }
 },
 "nbformat": 4,
 "nbformat_minor": 0
}
